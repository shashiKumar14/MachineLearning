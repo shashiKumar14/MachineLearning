{
 "cells": [
  {
   "cell_type": "code",
   "execution_count": 1,
   "metadata": {
    "id": "ERbIM8EDu6_j"
   },
   "outputs": [],
   "source": [
    "#imports\n",
    "\n",
    "import pandas as pd\n",
    "from scipy.stats import linregress\n",
    "import seaborn as sns\n",
    "from sklearn.metrics import mean_absolute_error, mean_squared_error, r2_score\n",
    "import math\n",
    "import numpy as np\n",
    "import matplotlib.pyplot as plt"
   ]
  },
  {
   "cell_type": "markdown",
   "metadata": {
    "id": "s9d5jEiRvSmt"
   },
   "source": [
    "**Q. What is Linear Regression?**\n",
    "<br />\n",
    "<br />\n",
    "Ans. Linear regression model is used to estimates the relationship between **one dependent** & **one dependent quantative** variables.\n",
    "<br />\n",
    "<br />\n",
    "Eg: Some examples are...\n",
    "<ol>\n",
    "<li> Soil Erosion Vs water fall</li>\n",
    "<li> Height Vs Shoe size</li>\n",
    "</ol>\n"
   ]
  },
  {
   "cell_type": "code",
   "execution_count": 2,
   "metadata": {
    "id": "-Jhc0-2YxPPd"
   },
   "outputs": [],
   "source": [
    "# Linear regression example:\n",
    "df = pd.DataFrame([ \n",
    "    [165,36.5],\n",
    "    [168, 37], \n",
    "    [172, 39.5],\n",
    "    [174,37.5],\n",
    "    [170, 37.5],\n",
    "    [171,38], \n",
    "    [164,36], \n",
    "    [173, 38.5],\n",
    "    [169, 37],\n",
    "    [163, 37]\n",
    "    ], columns=['Height', 'ShoeSize'])"
   ]
  },
  {
   "cell_type": "code",
   "execution_count": 3,
   "metadata": {
    "colab": {
     "base_uri": "https://localhost:8080/",
     "height": 112
    },
    "id": "yuKSPF-Ox9yi",
    "outputId": "42e2276c-2aaf-4bb6-e67c-1fa04d3a75e7"
   },
   "outputs": [
    {
     "data": {
      "text/html": [
       "<div>\n",
       "<style scoped>\n",
       "    .dataframe tbody tr th:only-of-type {\n",
       "        vertical-align: middle;\n",
       "    }\n",
       "\n",
       "    .dataframe tbody tr th {\n",
       "        vertical-align: top;\n",
       "    }\n",
       "\n",
       "    .dataframe thead th {\n",
       "        text-align: right;\n",
       "    }\n",
       "</style>\n",
       "<table border=\"1\" class=\"dataframe\">\n",
       "  <thead>\n",
       "    <tr style=\"text-align: right;\">\n",
       "      <th></th>\n",
       "      <th>Height</th>\n",
       "      <th>ShoeSize</th>\n",
       "    </tr>\n",
       "  </thead>\n",
       "  <tbody>\n",
       "    <tr>\n",
       "      <th>Height</th>\n",
       "      <td>1.000000</td>\n",
       "      <td>0.741125</td>\n",
       "    </tr>\n",
       "    <tr>\n",
       "      <th>ShoeSize</th>\n",
       "      <td>0.741125</td>\n",
       "      <td>1.000000</td>\n",
       "    </tr>\n",
       "  </tbody>\n",
       "</table>\n",
       "</div>"
      ],
      "text/plain": [
       "            Height  ShoeSize\n",
       "Height    1.000000  0.741125\n",
       "ShoeSize  0.741125  1.000000"
      ]
     },
     "execution_count": 3,
     "metadata": {},
     "output_type": "execute_result"
    }
   ],
   "source": [
    "df.corr()\n",
    "# Positive correlation: If there is increase in the x (dependent) value,\n",
    "#  increase in the y (independent) value.\n",
    "# Negative/Inverse correlation: If there is decrease in the x (dependent) value,\n",
    "#  decrease in the y (independent) value."
   ]
  },
  {
   "cell_type": "code",
   "execution_count": 4,
   "metadata": {
    "colab": {
     "base_uri": "https://localhost:8080/"
    },
    "id": "ahEZJgfS0QG5",
    "outputId": "22c760ed-858b-4aca-a756-f01cc865ff15"
   },
   "outputs": [
    {
     "name": "stdout",
     "output_type": "stream",
     "text": [
      "result LinregressResult(slope=0.19525959367945825, intercept=4.470654627539503, rvalue=0.7411253770427022, pvalue=0.014178951245427696, stderr=0.06253677280900707, intercept_stderr=10.564921013099163)\n"
     ]
    }
   ],
   "source": [
    "# Formulas:\n",
    "# Slope(m): n * (E(x)(y) - E(x)E(y)) / n * (E(x) * E(y))\n",
    "# intercept(b): ( E(y) * m(E(x)) ) / n\n",
    "\n",
    "lin_reg = linregress(df['Height'], df['ShoeSize'])\n",
    "print(\"result\", lin_reg)"
   ]
  },
  {
   "cell_type": "code",
   "execution_count": 5,
   "metadata": {
    "colab": {
     "base_uri": "https://localhost:8080/"
    },
    "id": "J5MOPluA04PR",
    "outputId": "650b1bcd-f106-45ad-beca-df3288273d79"
   },
   "outputs": [
    {
     "name": "stdout",
     "output_type": "stream",
     "text": [
      "43.52257336343115\n"
     ]
    }
   ],
   "source": [
    "# Calculation of given Height, get shoe size\n",
    "# Formula: y = m x + c\n",
    "# m = slope\n",
    "# c = intercept\n",
    "# x = given height to be calculated\n",
    "\n",
    "given_height = 200\n",
    "print(lin_reg.slope * given_height + lin_reg.intercept)\n",
    "# Resultant is the approx shoe size/value with some residual"
   ]
  },
  {
   "cell_type": "code",
   "execution_count": 6,
   "metadata": {
    "colab": {
     "base_uri": "https://localhost:8080/",
     "height": 296
    },
    "id": "8kB07VXu1h6N",
    "outputId": "a787a27d-6bc6-43f9-e1a4-d2d341d4c5ea"
   },
   "outputs": [
    {
     "data": {
      "text/plain": [
       "<AxesSubplot:xlabel='Height', ylabel='ShoeSize'>"
      ]
     },
     "execution_count": 6,
     "metadata": {},
     "output_type": "execute_result"
    },
    {
     "data": {
      "image/png": "[encoded data removed]",
      "text/plain": [
       "<Figure size 432x288 with 1 Axes>"
      ]
     },
     "metadata": {
      "needs_background": "light"
     },
     "output_type": "display_data"
    }
   ],
   "source": [
    "# plotting graph\n",
    "# A. Scatter plot\n",
    "sns.scatterplot(data=df, x='Height', y='ShoeSize')"
   ]
  },
  {
   "cell_type": "code",
   "execution_count": 7,
   "metadata": {
    "colab": {
     "base_uri": "https://localhost:8080/",
     "height": 296
    },
    "id": "yk1vvXSV2Ygb",
    "outputId": "15233753-a6be-40b2-90fe-fe9aa71c1bfe"
   },
   "outputs": [
    {
     "data": {
      "text/plain": [
       "<AxesSubplot:xlabel='Height', ylabel='ShoeSize'>"
      ]
     },
     "execution_count": 7,
     "metadata": {},
     "output_type": "execute_result"
    },
    {
     "data": {
      "image/png": "[encoded data removed]",
      "text/plain": [
       "<Figure size 432x288 with 1 Axes>"
      ]
     },
     "metadata": {
      "needs_background": "light"
     },
     "output_type": "display_data"
    }
   ],
   "source": [
    "# B. Regression plot\n",
    "\n",
    "sns.regplot(data=df, x='Height', y='ShoeSize')"
   ]
  },
  {
   "cell_type": "markdown",
   "metadata": {
    "id": "MqIYZsZ6M6YC"
   },
   "source": [
    "\n",
    "\n",
    "---\n",
    "\n"
   ]
  },
  {
   "cell_type": "markdown",
   "metadata": {
    "id": "ByfsPqZv2m5d"
   },
   "source": [
    "**Q. How to Calculate the error in linear regression?**\n",
    "<br />\n",
    "<br />\n",
    "Ans. A difference between the predicted value and actual value is called **residual**. One of main important assumption of regression analysis is the normal distribution of residual with **mean is equal to 0**, ie., residual must be positive and negative.\n",
    "<br/>\n",
    "<b>Formula</b> RSS (Residual Sum of Squares): \n",
    "<br/>\n",
    "<h2>Calculating Residuals</h2>\n",
    "Knowing that\n",
    "i = y(i) − ^y(i)\n",
    "<br />\n",
    "^y(i) = m x + b"
   ]
  },
  {
   "cell_type": "code",
   "execution_count": 8,
   "metadata": {
    "colab": {
     "base_uri": "https://localhost:8080/"
    },
    "id": "PxHKbWcD2aPa",
    "outputId": "38124b29-d38e-430c-fa6d-77549bf8ca44"
   },
   "outputs": [
    {
     "name": "stdout",
     "output_type": "stream",
     "text": [
      "Residual value: -0.18848758465011173\n"
     ]
    }
   ],
   "source": [
    "# Demo calculating residual value\n",
    "\n",
    "given_height = 165\n",
    "actual_shoe_size = 36.5\n",
    "r_shoe_size = lin_reg.slope * given_height + lin_reg.intercept\n",
    "print(\"Residual value:\", actual_shoe_size - r_shoe_size)"
   ]
  },
  {
   "cell_type": "markdown",
   "metadata": {
    "id": "HZnOi94aM8wv"
   },
   "source": [
    "\n",
    "\n",
    "---"
   ]
  },
  {
   "cell_type": "markdown",
   "metadata": {
    "id": "b0QZ4Ak8A_Jd"
   },
   "source": [
    "**Q. Difference between Loss and Cost function?**\n",
    "<br/>\n",
    "Ans. \n",
    "<br/>\n",
    "**Loss Function:** The Loss function quantifies how much a model function's prediction ^y = f(x) deviates from the ground truth y = y(x), we calculate loss on the single object in the training or test sets\n",
    "<br/>\n",
    "Examples:\n",
    "<ul>\n",
    "<li> MSE: Mean Square Error</li>\n",
    "<li> MAE: Mean Absolute Error</li>\n",
    "</ul>\n",
    "\n",
    "\n",
    "**Cost Function:** The cost function measure the model's error on a group of objects.\n",
    "<br/>\n",
    "Examples:\n",
    "<ul>\n",
    "<li> Average Square Loss.</li>\n",
    "</ul>\n",
    "\n",
    "**Object Functions:** The object these functions is not to minimize the cost/loss over training data, is to avoid **overfitting**"
   ]
  },
  {
   "cell_type": "markdown",
   "metadata": {
    "id": "TiZURb7UL_HV"
   },
   "source": [
    "\n",
    "\n",
    "---\n"
   ]
  },
  {
   "cell_type": "markdown",
   "metadata": {
    "id": "8Mfi6FVWGxbj"
   },
   "source": [
    "**Q. Difference between MSE & MAE & RMSE functions?**\n",
    "\n",
    "**Description:** \n",
    "<ul>\n",
    "<li>MAE (Mean Absolute Error): It represents the differences the average of the absolute difference betweeen the actual and predicted values in the dataset</li>\n",
    "<li>MSE (Mean Square Error): It represents the average of the squared difference between original and predicted values in the dataset.</li> \n",
    "<li>RMSE (Root Mean Square Error): It is the square root of mean square error i.e., it measures the standard deviation of residuals</li>\n",
    "</ul>\n",
    "\n",
    "**Examples:**"
   ]
  },
  {
   "cell_type": "code",
   "execution_count": 9,
   "metadata": {
    "colab": {
     "base_uri": "https://localhost:8080/"
    },
    "id": "hkbU4MVFAiGP",
    "outputId": "b5165e8b-0d17-43e4-f3de-d0bca97c7310"
   },
   "outputs": [
    {
     "name": "stdout",
     "output_type": "stream",
     "text": [
      "Mean Absolute Error (MAE), value:  131.45\n"
     ]
    }
   ],
   "source": [
    "# MAE(Mean Absolute Error):\n",
    "# 1/N E(i=1 to N) |y(i) - ^y|\n",
    "\n",
    "print(\"Mean Absolute Error (MAE), value: \", mean_absolute_error(df['Height'], df['ShoeSize']))"
   ]
  },
  {
   "cell_type": "code",
   "execution_count": 10,
   "metadata": {
    "colab": {
     "base_uri": "https://localhost:8080/"
    },
    "id": "uuMqqrwsO_P9",
    "outputId": "2539d344-8767-4423-8c3a-e9b3b9888188"
   },
   "outputs": [
    {
     "name": "stdout",
     "output_type": "stream",
     "text": [
      "Mean Squared Error (MSE), value:  17288.125\n"
     ]
    }
   ],
   "source": [
    "# MSE(Mean Square Error):\n",
    "# 1/N E(i=1 to N) (y(i) - ^y)**2\n",
    "\n",
    "print(\"Mean Squared Error (MSE), value: \", mean_squared_error(df['Height'], df['ShoeSize']))"
   ]
  },
  {
   "cell_type": "code",
   "execution_count": 11,
   "metadata": {
    "colab": {
     "base_uri": "https://localhost:8080/"
    },
    "id": "6z9g0z1ZPda0",
    "outputId": "7af1e005-4d91-4814-dccd-38b1472500c2"
   },
   "outputs": [
    {
     "name": "stdout",
     "output_type": "stream",
     "text": [
      "Root Mean Squared Error (RMSE), value:  131.48431465387802\n"
     ]
    }
   ],
   "source": [
    "# RMSE(Root Mean Square Error):\n",
    "# Square root (1/N E(i=1 to N) (y(i) - ^y)**2)\n",
    "MSE = mean_squared_error(df['Height'], df['ShoeSize'])\n",
    "print(\"Root Mean Squared Error (RMSE), value: \", math.sqrt(MSE))"
   ]
  },
  {
   "cell_type": "markdown",
   "metadata": {
    "id": "0rCisCXzQWPR"
   },
   "source": [
    "\n",
    "\n",
    "---\n",
    "\n"
   ]
  },
  {
   "cell_type": "markdown",
   "metadata": {
    "id": "GCGo4WKOU6oH"
   },
   "source": [
    "**Explain how `Gradient Descent` works in `Linear Regression`** ?\n",
    "\n",
    "Ans.\n",
    "\n",
    "**Simple definition:** A grident simply measures the change in all weights with regard to the change in error ie., gradient as the slope of a function. \n",
    "\n",
    "The higher gradient, the steeper the slope and the faster a model can learn. But if the slope is zero, the model stops learning\n",
    "\n",
    "**Gradient descent used to optimze the following:**\n",
    "<ul>\n",
    "<li><b>Linear Regression:</b> Optimizing interpect and slope</li>\n",
    "<li><b>Logistic regression:</b> Optimizing the squiggle</li>\n",
    "<li><b>t-sne:</b> Optimizing a cluster</li>\n",
    "</ul>"
   ]
  },
  {
   "cell_type": "code",
   "execution_count": 13,
   "metadata": {
    "colab": {
     "base_uri": "https://localhost:8080/"
    },
    "id": "6Hy9ae9WQL4l",
    "outputId": "5b7497d2-8022-4ab7-e984-a8ff9f39ce47"
   },
   "outputs": [
    {
     "name": "stdout",
     "output_type": "stream",
     "text": [
      "X coordinates [-2.49818611 -2.36472826 -2.19586301 -1.85838356 -1.8417288  -1.82431809\n",
      " -1.81211954 -1.76663072 -1.5953726  -1.5711134  -1.39179158 -1.38671449\n",
      " -1.29767872 -1.29434063 -1.15506188 -0.96945466 -0.95890504 -0.91441629\n",
      " -0.77509122 -0.62394683 -0.50153646 -0.47565528 -0.3356763  -0.2209616\n",
      " -0.11586463 -0.08668605 -0.05583959  0.01759048  0.20614884  0.42180209\n",
      "  0.42783751  0.68572053  0.73839942  0.75450308  0.90098815  1.21403632\n",
      "  1.28274228  1.38853928  1.39577362  1.48829284  1.62734201  1.88426483\n",
      "  2.03623701  2.09577151  2.14214351  2.20878899  2.33144854  2.37600831\n",
      "  2.42775621  2.43075475]\n",
      "y coordinates [-2.03105187e-02 -2.52730357e-03 -6.42633845e-03 -6.84416646e-02\n",
      " -4.06060597e-02  4.25020439e-02  1.11150735e-02 -6.51263452e-02\n",
      "  5.94440376e-02 -6.61611899e-02 -8.17894674e-03  1.26464730e-01\n",
      "  2.98211598e-02 -2.25442921e-01 -3.65181542e-02 -2.16324264e-01\n",
      " -2.78749782e-01  4.69742353e-02  4.63513912e-02  3.51690029e-02\n",
      "  1.42248910e-01 -7.73751782e-02  6.86222096e-02  1.19513343e-02\n",
      " -3.34368257e-02 -5.87822573e-02 -3.50376085e-03 -1.18407597e-02\n",
      "  3.96788448e-02  1.95132745e-01 -6.00510557e-02  7.41123302e-02\n",
      "  1.71622629e-02 -2.57360973e-04  4.16036486e-02 -1.45585706e-02\n",
      "  8.62145481e-02 -4.82731785e-02 -2.34773726e-02 -1.15138149e-01\n",
      " -1.69705293e-01  6.32632702e-02 -1.08901014e-01 -8.96746328e-02\n",
      "  2.64946447e-02 -1.77495311e-01 -1.13595717e-01  5.44861260e-02\n",
      "  7.96775203e-02  2.56183694e-02]\n"
     ]
    }
   ],
   "source": [
    "# Example:\n",
    "# Basic formula:\n",
    "# ^y = mx + b\n",
    "# loss = (y - ^y) ** 2 /N\n",
    "\n",
    "numvals = 50\n",
    "\n",
    "# initial values of slope and intercept\n",
    "m, b = 0, 0 \n",
    "\n",
    "# initial learning rate is 0.01\n",
    "learning_rate = 0.01\n",
    "\n",
    "x = np.sort( 5 * (np.random.random(numvals) - 0.5))\n",
    "y = m * (x + x**2) + np.random.normal(0, 0.1, numvals)\n",
    "\n",
    "print('X coordinates', x)\n",
    "print('y coordinates', y)"
   ]
  },
  {
   "cell_type": "code",
   "execution_count": 14,
   "metadata": {
    "colab": {
     "base_uri": "https://localhost:8080/",
     "height": 493
    },
    "id": "1xzbM8qw6rPb",
    "outputId": "a0e6099a-2635-4309-ea65-87e5f116e3bf"
   },
   "outputs": [
    {
     "data": {
      "text/plain": [
       "Text(0.5, 1.0, 'Data')"
      ]
     },
     "execution_count": 14,
     "metadata": {},
     "output_type": "execute_result"
    },
    {
     "data": {
      "image/png": "[encoded data removed]",
      "text/plain": [
       "<Figure size 504x504 with 1 Axes>"
      ]
     },
     "metadata": {
      "needs_background": "light"
     },
     "output_type": "display_data"
    }
   ],
   "source": [
    "# Plotting scatter graph\n",
    "\n",
    "plt.figure(figsize=(7, 7))\n",
    "plt.scatter(x, y)\n",
    "plt.xlabel('x', fontsize=20)\n",
    "plt.ylabel('y', fontsize=20)\n",
    "plt.title('Data', fontsize=25)"
   ]
  },
  {
   "cell_type": "code",
   "execution_count": 15,
   "metadata": {
    "id": "0Wfaq70z7Wba"
   },
   "outputs": [],
   "source": [
    "# basic gradient descent functional approach\n",
    "\n",
    "def descend(x, y, m, b, learning_rate): \n",
    "    dldw = 0.0 \n",
    "    dldb = 0.0 \n",
    "    N = x.shape[0]\n",
    "    # loss = (y-(wx+b)))**2\n",
    "    for xi, yi in zip(x,y): \n",
    "       dldw += -2*xi*(yi-(m*xi+b))\n",
    "       dldb += -2*(yi-(m*xi+b))\n",
    "    \n",
    "    # Make an update to the w parameter \n",
    "    m = m - learning_rate*(1/N)*dldw\n",
    "    b = b - learning_rate*(1/N)*dldb\n",
    "    return m, b\n"
   ]
  },
  {
   "cell_type": "code",
   "execution_count": 16,
   "metadata": {
    "colab": {
     "base_uri": "https://localhost:8080/"
    },
    "id": "ABwmZvYV_WOt",
    "outputId": "62ea807f-3c01-4274-a06d-c4ef70026a55"
   },
   "outputs": [
    {
     "name": "stdout",
     "output_type": "stream",
     "text": [
      "0 loss is 0.008753767883366972, paramters m:-1.5506364578032386e-05, b:-0.00032670859450041763\n",
      "1 loss is 0.008743598313588155, paramters m:-3.0251174718293556e-05, b:-0.000646879327683135\n",
      "2 loss is 0.00873383287487422, paramters m:-4.426957003392315e-05, b:-0.0009606431379710734\n",
      "3 loss is 0.00872445543930635, paramters m:-5.759510934957618e-05, b:-0.0012681283366579314\n",
      "4 loss is 0.008715450528441936, paramters m:-7.025984103824987e-05, b:-0.0015694606608268856\n",
      "5 loss is 0.00870680328665941, paramters m:-8.229437024371115e-05, b:-0.001864763325194183\n",
      "6 loss is 0.008698499455639483, paramters m:-9.37279231261232e-05, b:-0.0021541570728998674\n",
      "7 loss is 0.008690525349930775, paramters m:-0.00010458840826239674, b:-0.0024377602252674043\n",
      "8 loss is 0.008682867833550606, paramters m:-0.00011490247532698562, b:-0.0027156887305535052\n",
      "9 loss is 0.008675514297574042, paramters m:-0.00012469557117329862, b:-0.002988056211708993\n",
      "10 loss is 0.008668452638666791, paramters m:-0.00013399199343059253, b:-0.0032549740131711073\n",
      "11 loss is 0.008661671238519646, paramters m:-0.00014281494172614488, b:-0.0035165512467072104\n",
      "12 loss is 0.008655158944144424, paramters m:-0.0001511865666376522, b:-0.0037728948363294317\n",
      "13 loss is 0.008648905048993108, paramters m:-0.0001591280164761746, b:-0.004024109562299375\n",
      "14 loss is 0.008642899274863995, paramters m:-0.00016665948199551115, b:-0.004270298104241595\n",
      "15 loss is 0.008637131754560183, paramters m:-0.0001738002391196632, b:-0.004511561083384173\n",
      "16 loss is 0.00863159301526761, paramters m:-0.00018056868977599358, b:-0.0047479971039443075\n",
      "17 loss is 0.008626273962621254, paramters m:-0.0001869824009178226, b:-0.004979702793676487\n",
      "18 loss is 0.008621165865429657, paramters m:-0.0001930581418165061, b:-0.005206772843600407\n",
      "19 loss is 0.008616260341029372, paramters m:-0.00019881191969950326, b:-0.0054293000469254555\n",
      "20 loss is 0.008611549341242227, paramters m:-0.00020425901380756768, b:-0.005647375337188237\n",
      "21 loss is 0.008607025138909503, paramters m:-0.00020941400794096445, b:-0.005861087825619235\n",
      "22 loss is 0.008602680314978479, paramters m:-0.00021429082156152886, b:-0.006070524837754402\n",
      "23 loss is 0.00859850774611772, paramters m:-0.0002189027395144342, b:-0.006275771949307114\n",
      "24 loss is 0.00859450059283872, paramters m:-0.00022326244043071225, b:-0.006476913021315619\n",
      "25 loss is 0.008590652288102487, paramters m:-0.00022738202386887998, b:-0.006674030234580774\n",
      "26 loss is 0.008586956526390563, paramters m:-0.0002312730362514431, b:-0.006867204123408572\n",
      "27 loss is 0.008583407253220966, paramters m:-0.00023494649564958828, b:-0.0070565136086716464\n",
      "28 loss is 0.00857999865509039, paramters m:-0.00023841291546702054, b:-0.007242036030203652\n",
      "29 loss is 0.008576725149824821, paramters m:-0.00024168232707165048, b:-0.007423847178540116\n",
      "30 loss is 0.008573581377321508, paramters m:-0.00024476430142168705, b:-0.007602021326019091\n",
      "31 loss is 0.008570562190666011, paramters m:-0.00024766796973063344, b:-0.007776631257254653\n",
      "32 loss is 0.008567662647608722, paramters m:-0.00025040204321371987, b:-0.00794774829899601\n",
      "33 loss is 0.008564878002385985, paramters m:-0.0002529748319564264, b:-0.008115442349384723\n",
      "34 loss is 0.008562203697871513, paramters m:-0.0002553942629439553, b:-0.008279781906622307\n",
      "35 loss is 0.008559635358044519, paramters m:-0.00025766789728879405, b:-0.008440834097060179\n",
      "36 loss is 0.008557168780761472, paramters m:-0.00025980294669187084, b:-0.008598664702723713\n",
      "37 loss is 0.008554799930818993, paramters m:-0.00026180628917123525, b:-0.008753338188281898\n",
      "38 loss is 0.00855252493329596, paramters m:-0.000263684484090696, b:-0.008904917727473854\n",
      "39 loss is 0.008550340067163358, paramters m:-0.00026544378651941923, b:-0.00905346522900325\n",
      "40 loss is 0.008548241759150909, paramters m:-0.00026709016095211583, b:-0.009199041361911417\n",
      "41 loss is 0.008546226577860012, paramters m:-0.00026862929441814096, b:-0.009341705580439726\n",
      "42 loss is 0.008544291228112925, paramters m:-0.0002700666090065743, b:-0.009481516148391605\n",
      "43 loss is 0.008542432545528578, paramters m:-0.0002714072738331572, b:-0.009618530163004338\n",
      "44 loss is 0.008540647491315783, paramters m:-0.00027265621647381427, b:-0.009752803578340574\n",
      "45 loss is 0.008538933147275002, paramters m:-0.0002738181338883996, b:-0.009884391228209295\n",
      "46 loss is 0.008537286711000236, paramters m:-0.000274897502857259, b:-0.010013346848625752\n",
      "47 loss is 0.008535705491272881, paramters m:-0.0002758985899522019, b:-0.010139723099819737\n",
      "48 loss is 0.00853418690363982, paramters m:-0.0002768254610625249, b:-0.010263571587801295\n",
      "49 loss is 0.008532728466168255, paramters m:-0.000277681990495811, b:-0.010384942885492875\n",
      "50 loss is 0.008531327795370173, paramters m:-0.00027847186967236285, b:-0.010503886553436665\n",
      "51 loss is 0.008529982602289578, paramters m:-0.0002791986154312892, b:-0.010620451160085712\n",
      "52 loss is 0.008528690688745927, paramters m:-0.0002798655779654711, b:-0.010734684301687234\n",
      "53 loss is 0.00852744994372747, paramters m:-0.0002804759484018699, b:-0.0108466326217664\n",
      "54 loss is 0.00852625833992849, paramters m:-0.0002810327660429133, b:-0.01095634183021861\n",
      "55 loss is 0.008525113930424575, paramters m:-0.00028153892528399766, b:-0.011063856722018213\n",
      "56 loss is 0.008524014845480484, paramters m:-0.0002819971822214819, b:-0.011169221195551408\n",
      "57 loss is 0.008522959289485186, paramters m:-0.00028241016096491135, b:-0.011272478270580916\n",
      "58 loss is 0.00852194553800899, paramters m:-0.0002827803596666019, b:-0.011373670105849843\n",
      "59 loss is 0.008520971934977915, paramters m:-0.00028311015628113516, b:-0.011472838016332055\n",
      "60 loss is 0.008520036889960548, paramters m:-0.0002834018140667589, b:-0.011570022490136148\n",
      "61 loss is 0.008519138875562864, paramters m:-0.0002836574868401577, b:-0.011665263205070053\n",
      "62 loss is 0.008518276424926778, paramters m:-0.00028387922399554993, b:-0.011758599044873084\n",
      "63 loss is 0.008517448129328163, paramters m:-0.0002840689752985845, b:-0.011850068115122157\n",
      "64 loss is 0.008516652635870437, paramters m:-0.0002842285954650443, b:-0.01193970775881874\n",
      "65 loss is 0.008515888645269861, paramters m:-0.0002843598485339232, b:-0.012027554571662982\n",
      "66 loss is 0.00851515490972889, paramters m:-0.0002844644120440208, b:-0.012113644417021311\n",
      "67 loss is 0.008514450230894057, paramters m:-0.0002845438810227877, b:-0.01219801244059369\n",
      "68 loss is 0.008513773457895026, paramters m:-0.0002845997717957782, b:-0.012280693084786572\n",
      "69 loss is 0.008513123485461552, paramters m:-0.0002846335256246877, b:-0.012361720102797513\n",
      "70 loss is 0.008512499252115266, paramters m:-0.00028464651218160366, b:-0.01244112657241719\n",
      "71 loss is 0.008511899738433274, paramters m:-0.0002846400328667613, b:-0.012518944909554583\n",
      "72 loss is 0.008511323965380737, paramters m:-0.00028461532397676886, b:-0.012595206881490852\n",
      "73 loss is 0.00851077099270964, paramters m:-0.00028457355972996446, b:-0.012669943619867377\n",
      "74 loss is 0.008510239917421163, paramters m:-0.000284515855155265, b:-0.012743185633413336\n",
      "75 loss is 0.008509729872289085, paramters m:-0.0002844432688505914, b:-0.01281496282041802\n",
      "76 loss is 0.008509240024441794, paramters m:-0.0002843568056166807, b:-0.01288530448095306\n",
      "77 loss is 0.008508769574000598, paramters m:-0.0002842574189718413, b:-0.01295423932884959\n",
      "78 loss is 0.008508317752772037, paramters m:-0.00028414601355295936, b:-0.01302179550343524\n",
      "79 loss is 0.008507883822992139, paramters m:-0.0002840234474078291, b:-0.013088000581035859\n",
      "80 loss is 0.00850746707612044, paramters m:-0.00028389053418365734, b:-0.013152881586246615\n",
      "81 loss is 0.008507066831681903, paramters m:-0.00028374804521637357, b:-0.013216465002977185\n",
      "82 loss is 0.008506682436154742, paramters m:-0.0002835967115251756, b:-0.013278776785275528\n",
      "83 loss is 0.008506313261902368, paramters m:-0.00028343722571654104, b:-0.013339842367934713\n",
      "84 loss is 0.008505958706147704, paramters m:-0.0002832702438017504, b:-0.013399686676887157\n",
      "85 loss is 0.008505618189988181, paramters m:-0.00028309638693178407, b:-0.013458334139390541\n",
      "86 loss is 0.008505291157449774, paramters m:-0.00028291624305328976, b:-0.013515808694009606\n",
      "87 loss is 0.008504977074578562, paramters m:-0.00028273036848914574, b:-0.013572133800397903\n",
      "88 loss is 0.008504675428568326, paramters m:-0.000282539289446997, b:-0.013627332448883549\n",
      "89 loss is 0.008504385726922697, paramters m:-0.0002823435034589834, b:-0.013681427169862898\n",
      "90 loss is 0.008504107496650542, paramters m:-0.00028214348075574305, b:-0.013734440043005999\n",
      "91 loss is 0.008503840283493255, paramters m:-0.00028193966557763216, b:-0.01378639270627762\n",
      "92 loss is 0.008503583651182667, paramters m:-0.0002817324774259743, b:-0.013837306364777532\n",
      "93 loss is 0.008503337180728363, paramters m:-0.0002815223122570276, b:-0.013887201799403701\n",
      "94 loss is 0.008503100469733264, paramters m:-0.0002813095436212373, b:-0.013936099375341923\n",
      "95 loss is 0.008502873131736326, paramters m:-0.0002810945237502279, b:-0.0139840190503854\n",
      "96 loss is 0.008502654795581292, paramters m:-0.00028087758459388053, b:-0.014030980383087662\n",
      "97 loss is 0.008502445104810461, paramters m:-0.00028065903880973526, b:-0.01407700254075219\n",
      "98 loss is 0.008502243717082464, paramters m:-0.0002804391807068617, b:-0.014122104307262002\n",
      "99 loss is 0.008502050303613156, paramters m:-0.00028021828714624156, b:-0.014166304090752434\n",
      "100 loss is 0.008501864548638606, paramters m:-0.00027999661839961994, b:-0.014209619931130239\n",
      "101 loss is 0.008501686148899413, paramters m:-0.0002797744189686922, b:-0.014252069507442108\n",
      "102 loss is 0.008501514813145426, paramters m:-0.00027955191836641255, b:-0.014293670145095628\n",
      "103 loss is 0.008501350261660096, paramters m:-0.0002793293318621294, b:-0.014334438822935622\n",
      "104 loss is 0.008501192225803679, paramters m:-0.0002791068611921767, b:-0.0143743921801788\n",
      "105 loss is 0.008501040447574531, paramters m:-0.0002788846952374788, b:-0.014413546523209537\n",
      "106 loss is 0.008500894679187786, paramters m:-0.0002786630106696566, b:-0.014451917832239583\n",
      "107 loss is 0.008500754682670718, paramters m:-0.00027844197256705596, b:-0.014489521767834412\n",
      "108 loss is 0.008500620229474141, paramters m:-0.00027822173500205763, b:-0.014526373677308918\n",
      "109 loss is 0.00850049110009921, paramters m:-0.0002780024416009641, b:-0.014562488600995033\n",
      "110 loss is 0.008500367083738983, paramters m:-0.0002777842260777061, b:-0.014597881278383884\n",
      "111 loss is 0.008500247977934207, paramters m:-0.0002775672127425504, b:-0.014632566154144953\n",
      "112 loss is 0.008500133588242715, paramters m:-0.00027735151698694247, b:-0.014666557384024762\n",
      "113 loss is 0.008500023727921947, paramters m:-0.0002771372457455637, b:-0.014699868840627442\n",
      "114 loss is 0.008499918217624022, paramters m:-0.000276924497936638, b:-0.014732514119079602\n",
      "115 loss is 0.008499816885102892, paramters m:-0.0002767133648814719, b:-0.014764506542581783\n",
      "116 loss is 0.008499719564933107, paramters m:-0.0002765039307041737, b:-0.014795859167848787\n",
      "117 loss is 0.00849962609823971, paramters m:-0.00027629627271244983, b:-0.014826584790441102\n",
      "118 loss is 0.008499536332438835, paramters m:-0.00027609046176034, b:-0.014856695949989614\n",
      "119 loss is 0.008499450120988579, paramters m:-0.0002758865625937137, b:-0.014886204935315735\n",
      "120 loss is 0.008499367323149723, paramters m:-0.0002756846341793109, b:-0.01491512378944904\n",
      "121 loss is 0.008499287803755971, paramters m:-0.00027548473001807983, b:-0.014943464314544486\n",
      "122 loss is 0.008499211432993233, paramters m:-0.00027528689844352576, b:-0.014971238076701199\n",
      "123 loss is 0.008499138086187711, paramters m:-0.0002750911829057567, b:-0.014998456410684823\n",
      "124 loss is 0.00849906764360232, paramters m:-0.00027489762224187946, b:-0.015025130424555352\n",
      "125 loss is 0.008498999990241226, paramters m:-0.00027470625093336956, b:-0.01505127100420234\n",
      "126 loss is 0.008498935015662066, paramters m:-0.00027451709935101326, b:-0.015076888817789342\n",
      "127 loss is 0.00849887261379566, paramters m:-0.00027433019398798977, b:-0.01510199432010942\n",
      "128 loss is 0.008498812682772826, paramters m:-0.0002741455576816382, b:-0.01512659775685347\n",
      "129 loss is 0.008498755124758072, paramters m:-0.00027396320982442976, b:-0.015150709168793138\n",
      "130 loss is 0.008498699845789867, paramters m:-0.0002737831665646399, b:-0.015174338395880017\n",
      "131 loss is 0.008498646755627242, paramters m:-0.0002736054409971974, b:-0.015197495081262833\n",
      "132 loss is 0.008498595767602457, paramters m:-0.00027343004334515967, b:-0.015220188675224218\n",
      "133 loss is 0.008498546798479509, paramters m:-0.000273256981132249, b:-0.01524242843903872\n",
      "134 loss is 0.008498499768318252, paramters m:-0.00027308625934686226, b:-0.015264223448753606\n",
      "135 loss is 0.00849845460034388, paramters m:-0.00027291788059794826, b:-0.015285582598894011\n",
      "136 loss is 0.008498411220821582, paramters m:-0.00027275184526312946, b:-0.015306514606093946\n",
      "137 loss is 0.008498369558936188, paramters m:-0.0002725881516294277, b:-0.015327028012654651\n",
      "138 loss is 0.00849832954667653, paramters m:-0.00027242679602693706, b:-0.015347131190031752\n",
      "139 loss is 0.008498291118724431, paramters m:-0.0002722677729557726, b:-0.015366832342252633\n",
      "140 loss is 0.008498254212348061, paramters m:-0.0002721110752066074, b:-0.015386139509265439\n",
      "141 loss is 0.008498218767299536, paramters m:-0.0002719566939750973, b:-0.015405060570221066\n",
      "142 loss is 0.008498184725716545, paramters m:-0.0002718046189704784, b:-0.015423603246689493\n",
      "143 loss is 0.008498152032027901, paramters m:-0.0002716548385186105, b:-0.01544177510581174\n",
      "144 loss is 0.008498120632862817, paramters m:-0.0002715073396597265, b:-0.015459583563388788\n",
      "145 loss is 0.008498090476963774, paramters m:-0.0002713621082411359, b:-0.015477035886908684\n",
      "146 loss is 0.008498061515102844, paramters m:-0.00027121912900512007, b:-0.015494139198513078\n",
      "147 loss is 0.008498033700001328, paramters m:-0.0002710783856722455, b:-0.015510900477904419\n",
      "148 loss is 0.008498006986252568, paramters m:-0.00027093986102031146, b:-0.015527326565194979\n",
      "149 loss is 0.008497981330247826, paramters m:-0.0002708035369591377, b:-0.015543424163698884\n",
      "150 loss is 0.008497956690105087, paramters m:-0.00027066939460139097, b:-0.015559199842668282\n",
      "151 loss is 0.008497933025600693, paramters m:-0.0002705374143296354, b:-0.015574660039974767\n",
      "152 loss is 0.008497910298103673, paramters m:-0.00027040757585978923, b:-0.015589811064737176\n",
      "153 loss is 0.00849788847051268, paramters m:-0.00027027985830115796, b:-0.01560465909989679\n",
      "154 loss is 0.008497867507195427, paramters m:-0.0002701542402132066, b:-0.015619210204741036\n",
      "155 loss is 0.00849784737393051, paramters m:-0.0002700306996592281, b:-0.015633470317376698\n",
      "156 loss is 0.008497828037851552, paramters m:-0.00026990921425705733, b:-0.015647445257153635\n",
      "157 loss is 0.008497809467393543, paramters m:-0.00026978976122697066, b:-0.015661140727040043\n",
      "158 loss is 0.008497791632241309, paramters m:-0.0002696723174369091, b:-0.01567456231595017\n",
      "159 loss is 0.008497774503280032, paramters m:-0.00026955685944515275, b:-0.015687715501025483\n",
      "160 loss is 0.008497758052547705, paramters m:-0.0002694433635405709, b:-0.0157006056498702\n",
      "161 loss is 0.00849774225318951, paramters m:-0.00026933180578056476, b:-0.015713238022742087\n",
      "162 loss is 0.008497727079413953, paramters m:-0.00026922216202681623, b:-0.015725617774699465\n",
      "163 loss is 0.008497712506450771, paramters m:-0.00026911440797894895, b:-0.015737749957705223\n",
      "164 loss is 0.008497698510510503, paramters m:-0.0002690085192062047, b:-0.015749639522688774\n",
      "165 loss is 0.008497685068745637, paramters m:-0.00026890447117723177, b:-0.015761291321566756\n",
      "166 loss is 0.008497672159213328, paramters m:-0.00026880223928807905, b:-0.015772710109223317\n",
      "167 loss is 0.00849765976083957, paramters m:-0.0002687017988884849, b:-0.015783900545450768\n",
      "168 loss is 0.008497647853384792, paramters m:-0.00026860312530654467, b:-0.015794867196851445\n",
      "169 loss is 0.008497636417410826, paramters m:-0.0002685061938718374, b:-0.015805614538701503\n",
      "170 loss is 0.008497625434249163, paramters m:-0.0002684109799370897, b:-0.015816146956777445\n",
      "171 loss is 0.008497614885970489, paramters m:-0.0002683174588984502, b:-0.01582646874914611\n",
      "172 loss is 0.00849760475535541, paramters m:-0.00026822560621444217, b:-0.015836584127918853\n",
      "173 loss is 0.008497595025866342, paramters m:-0.0002681353974236657, b:-0.015846497220970642\n",
      "174 loss is 0.008497585681620517, paramters m:-0.00026804680816130776, b:-0.015856212073624764\n",
      "175 loss is 0.008497576707364056, paramters m:-0.00026795981417452447, b:-0.015865732650303836\n",
      "176 loss is 0.008497568088447054, paramters m:-0.0002678743913367523, b:-0.015875062836147796\n",
      "177 loss is 0.008497559810799691, paramters m:-0.0002677905156610025, b:-0.015884206438599523\n",
      "178 loss is 0.008497551860909246, paramters m:-0.0002677081633121928, b:-0.015893167188958748\n",
      "179 loss is 0.00849754422579803, paramters m:-0.0002676273106185646, b:-0.015901948743904874\n",
      "180 loss is 0.008497536893002226, paramters m:-0.0002675479340822357, b:-0.01591055468698935\n",
      "181 loss is 0.008497529850551517, paramters m:-0.00026747001038893116, b:-0.01591898853009819\n",
      "182 loss is 0.008497523086949567, paramters m:-0.00026739351641693785, b:-0.015927253714885226\n",
      "183 loss is 0.008497516591155236, paramters m:-0.0002673184292453231, b:-0.015935353614176726\n",
      "184 loss is 0.008497510352564562, paramters m:-0.00026724472616145625, b:-0.015943291533347878\n",
      "185 loss is 0.008497504360993457, paramters m:-0.00026717238466787165, b:-0.015951070711671775\n",
      "186 loss is 0.008497498606661076, paramters m:-0.0002671013824885074, b:-0.015958694323641397\n",
      "187 loss is 0.008497493080173849, paramters m:-0.0002670316975743547, b:-0.01596616548026517\n",
      "188 loss is 0.008497487772510151, paramters m:-0.0002669633081085501, b:-0.015973487230336588\n",
      "189 loss is 0.00849748267500557, paramters m:-0.00026689619251094065, b:-0.015980662561678478\n",
      "190 loss is 0.008497477779338762, paramters m:-0.00026683032944215185, b:-0.015987694402362335\n",
      "191 loss is 0.008497473077517881, paramters m:-0.00026676569780718625, b:-0.01599458562190331\n",
      "192 loss is 0.008497468561867512, paramters m:-0.00026670227675857847, b:-0.016001339032431262\n",
      "193 loss is 0.00849746422501616, paramters m:-0.0002666400456991334, b:-0.016007957389838418\n",
      "194 loss is 0.0084974600598842, paramters m:-0.0002665789842842699, b:-0.01601444339490406\n",
      "195 loss is 0.00849745605967233, paramters m:-0.00026651907242399334, b:-0.016020799694396726\n",
      "196 loss is 0.008497452217850471, paramters m:-0.00026646029028451983, b:-0.016027028882154362\n",
      "197 loss is 0.008497448528147105, paramters m:-0.0002664026182895709, b:-0.016033133500142873\n",
      "198 loss is 0.008497444984539037, paramters m:-0.0002663460371213597, b:-0.016039116039493505\n",
      "199 loss is 0.00849744158124156, paramters m:-0.0002662905277212867, b:-0.016044978941519475\n"
     ]
    }
   ],
   "source": [
    "# Iteratively make updates\n",
    "for epoch in range(200): \n",
    "    m, b = descend(x,y,m,b,learning_rate)\n",
    "    yhat = m*x + b\n",
    "    loss = np.divide(np.sum((y-yhat)**2, axis=0), x.shape[0]) \n",
    "    print(f'{epoch} loss is {loss}, paramters m:{m}, b:{b}')"
   ]
  },
  {
   "cell_type": "markdown",
   "metadata": {
    "id": "NYMxv3hCAj0P"
   },
   "source": [
    "\n",
    "\n",
    "---\n"
   ]
  },
  {
   "cell_type": "markdown",
   "metadata": {
    "id": "PJdDBl8-BBBJ"
   },
   "source": [
    "**Explain the term intercept?**\n",
    "\n",
    "Ans. The intercept (sometimes called the \"constant\")in a regression model represents the mean value of the response variable when all of the predictor variables in the model are equal to zero.\n",
    "\n",
    "Formula:\n",
    "\n",
    "**Simple linear regression: ŷ = β0 + β1(x)**\n",
    "\n",
    "\n",
    "<ul>\n",
    "<li>ŷ: The predicted value for the response variable</li>\n",
    "<li>β0: The mean value of the response variable when x = 0</li>\n",
    "<li>β1: The average change in the response variable for a one unit increase in x</li>\n",
    "<li>x: The value for the predictor variable</li>\n",
    "</ul>\n",
    "\n",
    "**Multiple Linear Regression: ŷ = β0 + β1(x1) + β2(x2) + β3(x3) + … + βk(xk)**\n",
    "<ul>\n",
    "<li>ŷ: The predicted value for the response variable</li>\n",
    "<li>β0: The mean value of the response variable when all predictor variables are zero</li>\n",
    "<li>βj: The average change in the response variable for a one unit increase in the jth predictor variable, assuming all other predictor variables are held constant</li>\n",
    "<li>xj: The value for the jth predictor variable</li>\n",
    "</ul>"
   ]
  },
  {
   "cell_type": "markdown",
   "metadata": {
    "id": "_2SiKcy3GsPE"
   },
   "source": [
    "\n",
    "\n",
    "---\n",
    "\n"
   ]
  },
  {
   "cell_type": "markdown",
   "metadata": {
    "id": "HP7D3Oo0GhwH"
   },
   "source": [
    "**Q. Write all the assumptions for linear regression?**\n",
    "\n",
    "Ans. \n",
    "<ul>\n",
    "<li>Linear relationship</li>\n",
    "<li>Independence</li>\n",
    "<li>Homoscedasticity</li>\n",
    "<li>Normality</li>\n",
    "</ul>\n",
    "\n",
    "\n",
    "**Linear relationship:** There exists a linear relationship between the independent variable, x, and the dependent variable, y.\n",
    "\n",
    "If assumption is voilated:\n",
    "<ul>\n",
    "<li>Apply a non-linear transformation to the independent and/or dependent variable. </li>\n",
    "<li>Add another independent variable to the model.</li>\n",
    "</ul>\n",
    "\n",
    "**Independence:** The residuals are independent. In particular there is no correlation between consecutive residuals in time series data.\n",
    "\n",
    "If assumption is voilated:\n",
    "<ul>\n",
    "<li>Positive serail correlation, consider adding lags of the dependent and/or independent variable to the model. Common examples include taking the log, the square root or the reciprocal of the independent and/or dependent variable</li>\n",
    "<li>Negative serail correlation, check to make sure that none of your variables are overdifferenced.</li>\n",
    "<li>Categorial correlation, consider adding categorial dummy variable to the model.</li>\n",
    "</ul>\n",
    "\n",
    "**Homoscedasticity:** The residuals have constant variance at every level of x.\n",
    "\n",
    "If assumption is voilated:\n",
    "<ul>\n",
    "<li>Transform the dependent variable</li>\n",
    "<li>Redefine the dependent variable</li>\n",
    "<li>Use weighted regression</li>\n",
    "</ul>\n",
    "\n",
    "**Normality:** The residuals of the model are normally distributed.\n",
    "\n",
    "If assumption is voilated:\n",
    "<ul>\n",
    "<li>Verify that any outliers aren't having a huge impact on the distribution.</li>\n",
    "<li>Make sure of no erroneous data</li>\n",
    "<li>Try applying a nonlinear transformation to the independent and/or dependent variable. Common example include taking the log, the square root, or the reciprocal of the independent and/or dependent variable.</li>\n",
    "</ul>"
   ]
  },
  {
   "cell_type": "markdown",
   "metadata": {
    "id": "PIJ1i33LOGsC"
   },
   "source": [
    "\n",
    "\n",
    "---\n"
   ]
  },
  {
   "cell_type": "markdown",
   "metadata": {
    "id": "ZaxIIFFtOQw6"
   },
   "source": [
    "**Q. Hypothesis testing in Linear Regression?**\n",
    "\n",
    "Ans. \n",
    "<ul>\n",
    "<li>By creating the linear regression model, we are establishing a new truth about the relationship between dependent variable with one or more independent variables.</li>\n",
    "<li>In order to justify the truth, there are needed one or more tests. These tests can be termed as an act of testing the truth using hypothesis testing</li>\n",
    "<li>T-test is used to verify the relationsip between the dependent and independent variables</li>\n",
    "<li>F-test is used to test the linear regression model</li>\n",
    "</ul>\n",
    "\n",
    "Steps to perform **Hypothesis tests & Linear Regression Models**\n",
    "\n",
    "<ul>\n",
    "<li>\n",
    "Formulate null and alternative hypothesis:\n",
    "<ul>\n",
    "<li><b>T-tests:</b> Thus, the null hypothesis is set that there is no relationship between independent variable and the predicted variable\n",
    "</li>\n",
    "<li><b>F-tests:</b> The null hypothesis is that the linear regression model doesnot exists.\n",
    "</li>\n",
    "</ul>\n",
    "</li>\n",
    "\n",
    "<li>\n",
    "Determine the test statistics:\n",
    "<ul>\n",
    "<li>T-test for hypotheses related to individual coefficients</li>\n",
    "<li>F-test for hypothesis for linear regression model</li>\n",
    "</ul>\n",
    "</li>\n",
    "\n",
    "<li>\n",
    "Make decision: Based on the values of t-statistics and f-statistics, the decision regarding the linear regression model is taken\n",
    "</li>\n",
    "\n",
    "<li>\n",
    "Draw conclusions.\n",
    "</li>\n",
    "\n",
    "</ul>"
   ]
  },
  {
   "cell_type": "markdown",
   "metadata": {
    "id": "tQA0uDpjSyUq"
   },
   "source": [
    "\n",
    "\n",
    "---\n"
   ]
  },
  {
   "cell_type": "markdown",
   "metadata": {
    "id": "hzo_R7KzS4db"
   },
   "source": [
    "**Q. How would you decide the importance of variable for the multivariant regression?**\n",
    "\n",
    "Ans. It is defined as a process of involving multiple dependent variables resulting in one outcome. \n",
    "\n",
    "The significance of multivariant analysis is helpful in effectively minimizing the bias.\n",
    "\n",
    "**Objective of multivariant analysis:**\n",
    "<ul>\n",
    "<li>Data reduction or structural simplification</li>\n",
    "<li>Sorting and grouping</li>\n",
    "<li>Investigation of dependence among variables</li>\n",
    "<li>Prediction relationship between variables</li>\n",
    "<li>Hypothesis construction and testing</li>\n",
    "</ul>\n",
    "\n",
    "**Some categories of multivariant analysis:**\n",
    "<ul>\n",
    "<li>Cluster analysis</li>\n",
    "<li>Multiple Logistic Regression</li>\n",
    "<li>Multivariate Analysis of Varaiance</li>\n",
    "</ul>\n",
    "\n",
    "**Model Assumptions:**\n",
    "Normality, Homoscedasticity, linearity and independence(the absence of correlated errors).\n",
    "\n",
    "<b>Example:</b> Based on the season we cannot predict the weather of any given year. Several factors play an important role in predicting the **weather**.\n",
    "\n",
    "\n",
    "**Drawbacks:**\n",
    "<ul>\n",
    "<li>This technique involve the use of complex statistical programs that are very expensive</li>\n",
    "</ul>"
   ]
  },
  {
   "cell_type": "markdown",
   "metadata": {
    "id": "IV7ZNEMEZRyO"
   },
   "source": [
    "\n",
    "\n",
    "---\n"
   ]
  },
  {
   "cell_type": "markdown",
   "metadata": {
    "id": "SSOB0ndGYDOq"
   },
   "source": [
    "**Q. Difference between R-Square and Adjusted R-Square?**\n",
    "\n",
    "\n",
    "Ans: \n",
    "<ul>\n",
    "<li>R-Square: Residual Sum of Squares.</li>\n",
    "<li>Adjusted R-Square: Adjusted Residual Sum of Squares.</li>\n",
    "</ul>\n",
    "\n",
    "**R-Square:** It is a statistical measure that represents the proportion of the variance for a dependent variable that's explained by an independent variable or variables in a regression model.\n",
    "\n",
    "**Adjusted R-Squared:** It is a modified version of R-squared that has been adjusted for the number of predictors in the model.\n",
    "Adding more independent variables or predictors to a regression model tends to increase the R-squared value, which tempts markers of the model to add even more variables. This is called overfitting and can return an unwarranted high R-Squared value. Adjusted R-squared is used to determine how reliable the correlation is and how much it is determined by the addition of independent variables \n",
    "\n",
    "**Formula:**\n",
    "\n",
    "R Square(Coefficient of determination): \n",
    "\n",
    "1 - (Sum of squares of residuals/total sum of square)\n",
    "\n",
    "<b>Sum of Squares of Residuals(RSS): E(i=1 to n) (y(i) - f(x(i)))**2</b>\n",
    "<ul>\n",
    "<li>y(i): i^th value of the variable to be predicted</li>\n",
    "<li>f(x(i)): predicted value of y(i)</li>\n",
    "<li>n: number of observations</li>\n",
    "</ul>\n",
    "\n",
    "<b>Total Sum of Square(TSS): E(i=1 to n) (y(i) - ^y)**2</b>\n",
    "<ul>\n",
    "<li>n: number of observations</li>\n",
    "<li>y(i): value in a sample</li>\n",
    "<li>^y: mean value of a sample</li>\n",
    "</ul>\n",
    "\n",
    "<b>Adjust R Square: 1-( (1-R**2)(N-1)/(N-K-1) )</b>\n",
    "\n",
    "R**2 is the actual r square value\n",
    "\n",
    "N: Number of data points\n",
    "\n",
    "K: Indepenedent variable\n",
    "\n",
    "**R-Squared Vs Adjusted R-Squared**\n",
    "\n",
    "The Adjusted R-Squared considers and tests different independent variables against the model, where as R-Squared not."
   ]
  },
  {
   "cell_type": "code",
   "execution_count": null,
   "metadata": {
    "id": "1y9Qhpi7gutq"
   },
   "outputs": [],
   "source": []
  },
  {
   "cell_type": "code",
   "execution_count": null,
   "metadata": {},
   "outputs": [],
   "source": []
  }
 ],
 "metadata": {
  "colab": {
   "collapsed_sections": [],
   "provenance": []
  },
  "kernelspec": {
   "display_name": "Python 3 (ipykernel)",
   "language": "python",
   "name": "python3"
  },
  "language_info": {
   "codemirror_mode": {
    "name": "ipython",
    "version": 3
   },
   "file_extension": ".py",
   "mimetype": "text/x-python",
   "name": "python",
   "nbconvert_exporter": "python",
   "pygments_lexer": "ipython3",
   "version": "3.9.12"
  }
 },
 "nbformat": 4,
 "nbformat_minor": 1
}
